{
 "cells": [
  {
   "cell_type": "code",
   "execution_count": 1,
   "metadata": {},
   "outputs": [
    {
     "name": "stderr",
     "output_type": "stream",
     "text": [
      "\n",
      "[INFO:minedojo.tasks] Loaded 1581 Programmatic tasks, 1560 Creative tasks, and 1 special task: \"Playthrough\". Totally 3142 tasks loaded.\n"
     ]
    }
   ],
   "source": [
    "import minedojo"
   ]
  },
  {
   "cell_type": "code",
   "execution_count": 3,
   "metadata": {},
   "outputs": [
    {
     "name": "stdout",
     "output_type": "stream",
     "text": [
      "<class 'minedojo.sim.spaces.MultiDiscrete'>\n",
      "<class 'numpy.ndarray'>\n",
      "[ 0  0  0 12 12  0  0  0]\n"
     ]
    }
   ],
   "source": [
    "env = minedojo.make(task_id=\"open-ended\", image_size=(160, 256))\n",
    "print(type(env.action_space))\n",
    "print(type(env.action_space.no_op()))\n",
    "print(env.action_space.no_op())"
   ]
  },
  {
   "cell_type": "code",
   "execution_count": null,
   "metadata": {},
   "outputs": [],
   "source": []
  }
 ],
 "metadata": {
  "kernelspec": {
   "display_name": "minedojo",
   "language": "python",
   "name": "python3"
  },
  "language_info": {
   "codemirror_mode": {
    "name": "ipython",
    "version": 3
   },
   "file_extension": ".py",
   "mimetype": "text/x-python",
   "name": "python",
   "nbconvert_exporter": "python",
   "pygments_lexer": "ipython3",
   "version": "3.9.18"
  }
 },
 "nbformat": 4,
 "nbformat_minor": 2
}
